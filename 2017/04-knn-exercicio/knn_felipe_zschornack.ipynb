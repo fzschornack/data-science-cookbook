{
 "cells": [
  {
   "cell_type": "code",
   "execution_count": 162,
   "metadata": {
    "collapsed": true
   },
   "outputs": [],
   "source": [
    "import matplotlib.pyplot as plt\n",
    "from matplotlib import cm\n",
    "%matplotlib inline\n",
    "import numpy as np\n",
    "from sklearn.metrics.pairwise import euclidean_distances\n",
    "import pandas as pd\n",
    "from sklearn.preprocessing import MaxAbsScaler\n",
    "from sklearn.metrics import classification_report\n",
    "import warnings\n",
    "warnings.filterwarnings('ignore')"
   ]
  },
  {
   "cell_type": "code",
   "execution_count": 138,
   "metadata": {
    "collapsed": false
   },
   "outputs": [],
   "source": [
    "class KNNClassifier(object):\n",
    "    def __init__(self, k):\n",
    "        self.X_train = None\n",
    "        self.y_train = None\n",
    "        self.k = k\n",
    "        \n",
    "    def closest(self, row):\n",
    "        \"\"\"\n",
    "        Retorna a classe respondente ao ponto mais próximo do dataset de treino.\\\n",
    "        É um exemplo de implementação do kNN com k=1.\n",
    "        \"\"\"\n",
    "        \n",
    "        dists = euclidean_distances(row, self.X_train.iloc[:,:])\n",
    "        k_neighbours = np.argsort(dists[0])[:self.k]\n",
    "        k_labels = self.y_train.loc[k_neighbours]\n",
    "        labels, counts = np.unique(k_labels, return_counts=True)\n",
    "        idx = list(counts).index(max(counts))\n",
    "        return labels[idx]\n",
    "\n",
    "    def fit(self, training_data, training_labels):\n",
    "        self.X_train = training_data\n",
    "        self.y_train = training_labels\n",
    "\n",
    "    def predict(self, to_classify):\n",
    "        predictions = []\n",
    "        for row in range(len(to_classify)):\n",
    "            label = self.closest(to_classify.iloc[row])\n",
    "            predictions.append(label)\n",
    "        return predictions"
   ]
  },
  {
   "cell_type": "code",
   "execution_count": 166,
   "metadata": {
    "collapsed": false
   },
   "outputs": [
    {
     "data": {
      "text/html": [
       "<div>\n",
       "<table border=\"1\" class=\"dataframe\">\n",
       "  <thead>\n",
       "    <tr style=\"text-align: right;\">\n",
       "      <th></th>\n",
       "      <th>Pclass</th>\n",
       "      <th>Sex</th>\n",
       "      <th>Age</th>\n",
       "      <th>SibSp</th>\n",
       "      <th>Parch</th>\n",
       "      <th>Fare</th>\n",
       "      <th>Embarked</th>\n",
       "    </tr>\n",
       "  </thead>\n",
       "  <tbody>\n",
       "    <tr>\n",
       "      <th>Pclass</th>\n",
       "      <td>1.000000</td>\n",
       "      <td>0.131900</td>\n",
       "      <td>-0.361353</td>\n",
       "      <td>0.083081</td>\n",
       "      <td>0.018443</td>\n",
       "      <td>-0.549500</td>\n",
       "      <td>0.173511</td>\n",
       "    </tr>\n",
       "    <tr>\n",
       "      <th>Sex</th>\n",
       "      <td>0.131900</td>\n",
       "      <td>1.000000</td>\n",
       "      <td>0.024978</td>\n",
       "      <td>-0.114631</td>\n",
       "      <td>-0.245489</td>\n",
       "      <td>-0.182333</td>\n",
       "      <td>0.118492</td>\n",
       "    </tr>\n",
       "    <tr>\n",
       "      <th>Age</th>\n",
       "      <td>-0.361353</td>\n",
       "      <td>0.024978</td>\n",
       "      <td>1.000000</td>\n",
       "      <td>-0.184664</td>\n",
       "      <td>-0.048786</td>\n",
       "      <td>0.135516</td>\n",
       "      <td>0.069705</td>\n",
       "    </tr>\n",
       "    <tr>\n",
       "      <th>SibSp</th>\n",
       "      <td>0.083081</td>\n",
       "      <td>-0.114631</td>\n",
       "      <td>-0.184664</td>\n",
       "      <td>1.000000</td>\n",
       "      <td>0.414838</td>\n",
       "      <td>0.159651</td>\n",
       "      <td>0.071480</td>\n",
       "    </tr>\n",
       "    <tr>\n",
       "      <th>Parch</th>\n",
       "      <td>0.018443</td>\n",
       "      <td>-0.245489</td>\n",
       "      <td>-0.048786</td>\n",
       "      <td>0.414838</td>\n",
       "      <td>1.000000</td>\n",
       "      <td>0.216225</td>\n",
       "      <td>0.043351</td>\n",
       "    </tr>\n",
       "    <tr>\n",
       "      <th>Fare</th>\n",
       "      <td>-0.549500</td>\n",
       "      <td>-0.182333</td>\n",
       "      <td>0.135516</td>\n",
       "      <td>0.159651</td>\n",
       "      <td>0.216225</td>\n",
       "      <td>1.000000</td>\n",
       "      <td>-0.230365</td>\n",
       "    </tr>\n",
       "    <tr>\n",
       "      <th>Embarked</th>\n",
       "      <td>0.173511</td>\n",
       "      <td>0.118492</td>\n",
       "      <td>0.069705</td>\n",
       "      <td>0.071480</td>\n",
       "      <td>0.043351</td>\n",
       "      <td>-0.230365</td>\n",
       "      <td>1.000000</td>\n",
       "    </tr>\n",
       "  </tbody>\n",
       "</table>\n",
       "</div>"
      ],
      "text/plain": [
       "            Pclass       Sex       Age     SibSp     Parch      Fare  Embarked\n",
       "Pclass    1.000000  0.131900 -0.361353  0.083081  0.018443 -0.549500  0.173511\n",
       "Sex       0.131900  1.000000  0.024978 -0.114631 -0.245489 -0.182333  0.118492\n",
       "Age      -0.361353  0.024978  1.000000 -0.184664 -0.048786  0.135516  0.069705\n",
       "SibSp     0.083081 -0.114631 -0.184664  1.000000  0.414838  0.159651  0.071480\n",
       "Parch     0.018443 -0.245489 -0.048786  0.414838  1.000000  0.216225  0.043351\n",
       "Fare     -0.549500 -0.182333  0.135516  0.159651  0.216225  1.000000 -0.230365\n",
       "Embarked  0.173511  0.118492  0.069705  0.071480  0.043351 -0.230365  1.000000"
      ]
     },
     "execution_count": 166,
     "metadata": {},
     "output_type": "execute_result"
    },
    {
     "data": {
      "image/png": "[encoded data removed]",
      "text/plain": [
       "<matplotlib.figure.Figure at 0x115c8b860>"
      ]
     },
     "metadata": {},
     "output_type": "display_data"
    }
   ],
   "source": [
    "data = pd.read_csv('titanic.csv')\n",
    "string_features = ['Sex', 'Embarked']\n",
    "data_cat = data[['Pclass', 'Sex', 'Age', 'SibSp', 'Parch', 'Fare', 'Embarked']]\n",
    "labels = data[['Survived']]\n",
    "\n",
    "for h in string_features:\n",
    "    data_cat[h] = data_cat[h].astype('category')\n",
    "    data_cat[h] = data_cat[h].cat.codes\n",
    "\n",
    "data_cat = data_cat.fillna(0)\n",
    "\n",
    "cmap = cm.get_cmap('coolwarm')\n",
    "\n",
    "cor = data_cat.corr()\n",
    "plt.matshow(cor, cmap=cmap)\n",
    "cor"
   ]
  },
  {
   "cell_type": "markdown",
   "metadata": {},
   "source": [
    "Features 0 e 5 possuem correlação negativa"
   ]
  },
  {
   "cell_type": "code",
   "execution_count": null,
   "metadata": {
    "collapsed": true
   },
   "outputs": [],
   "source": [
    "scaler = MaxAbsScaler().fit(data_cat.iloc[:,:])\n",
    "data_cat = pd.DataFrame(scaler.transform(data_cat))\n",
    "\n",
    "train_x = data_cat.iloc[:579,:]\n",
    "train_y = labels.iloc[:579,:]\n",
    "val_x = data_cat.iloc[579:668,:]\n",
    "val_y = labels.iloc[579:668,:]\n",
    "test_x = data_cat.iloc[668:,:]\n",
    "test_y = labels.iloc[668:,:]"
   ]
  },
  {
   "cell_type": "code",
   "execution_count": 176,
   "metadata": {
    "collapsed": false
   },
   "outputs": [
    {
     "name": "stdout",
     "output_type": "stream",
     "text": [
      "k\taccuracy\n",
      "4 0.8202247191011236\n",
      "8 0.8089887640449438\n",
      "12 0.8089887640449438\n",
      "16 0.7752808988764045\n",
      "20 0.7752808988764045\n",
      "24 0.7752808988764045\n",
      "28 0.7752808988764045\n",
      "32 0.7752808988764045\n",
      "36 0.7752808988764045\n",
      "40 0.7752808988764045\n",
      "44 0.7752808988764045\n",
      "48 0.7640449438202247\n",
      "52 0.7752808988764045\n",
      "56 0.7528089887640449\n",
      "60 0.7528089887640449\n",
      "64 0.7528089887640449\n",
      "68 0.7528089887640449\n",
      "72 0.7528089887640449\n",
      "76 0.7528089887640449\n",
      "80 0.7528089887640449\n",
      "84 0.7528089887640449\n",
      "88 0.7528089887640449\n",
      "92 0.7528089887640449\n",
      "96 0.7528089887640449\n",
      "100 0.7528089887640449\n",
      "104 0.7528089887640449\n",
      "108 0.7528089887640449\n",
      "112 0.7528089887640449\n",
      "116 0.7528089887640449\n"
     ]
    }
   ],
   "source": [
    "n = len(val_x)\n",
    "accs = {}\n",
    "print('k\\taccuracy')\n",
    "for k in range(4, 30*4 ,4):\n",
    "    knn = KNNClassifier(k)\n",
    "    knn.fit(train_x, train_y)\n",
    "    predictions = knn.predict(val_x)\n",
    "    hits = 0\n",
    "    for i in range(n):\n",
    "        if predictions[i] == val_y.iloc[i,0]:\n",
    "            hits += 1\n",
    "    accs.update({k: hits/n})\n",
    "    print(k, hits/n)"
   ]
  },
  {
   "cell_type": "code",
   "execution_count": 195,
   "metadata": {
    "collapsed": false
   },
   "outputs": [
    {
     "data": {
      "text/plain": [
       "[<matplotlib.lines.Line2D at 0x117998c50>]"
      ]
     },
     "execution_count": 195,
     "metadata": {},
     "output_type": "execute_result"
    },
    {
     "data": {
      "image/png": "[encoded data removed]",
      "text/plain": [
       "<matplotlib.figure.Figure at 0x117600550>"
      ]
     },
     "metadata": {},
     "output_type": "display_data"
    }
   ],
   "source": [
    "x = list(accs.keys())\n",
    "y = list(accs.values())\n",
    "plt.plot(x, y)"
   ]
  },
  {
   "cell_type": "code",
   "execution_count": 201,
   "metadata": {
    "collapsed": false
   },
   "outputs": [
    {
     "name": "stdout",
     "output_type": "stream",
     "text": [
      "0.7937219730941704\n"
     ]
    }
   ],
   "source": [
    "# melhor k: 4\n",
    "\n",
    "n = len(test_x)\n",
    "\n",
    "knn = KNNClassifier(4)\n",
    "knn.fit(train_x, train_y)\n",
    "predictions = knn.predict(test_x)\n",
    "hits = 0\n",
    "for i in range(n):\n",
    "    if predictions[i] == test_y.iloc[i,0]:\n",
    "        hits += 1\n",
    "print(hits/n)"
   ]
  },
  {
   "cell_type": "code",
   "execution_count": 203,
   "metadata": {
    "collapsed": false
   },
   "outputs": [
    {
     "name": "stdout",
     "output_type": "stream",
     "text": [
      "              precision    recall  f1-score   support\n",
      "\n",
      "    Survived       0.80      0.89      0.85       141\n",
      "Not Survived       0.77      0.62      0.69        82\n",
      "\n",
      " avg / total       0.79      0.79      0.79       223\n",
      "\n"
     ]
    }
   ],
   "source": [
    "print(classification_report(test_y.iloc[:], predictions, target_names=['Survived', 'Not Survived']))"
   ]
  },
  {
   "cell_type": "code",
   "execution_count": null,
   "metadata": {
    "collapsed": true
   },
   "outputs": [],
   "source": []
  }
 ],
 "metadata": {
  "kernelspec": {
   "display_name": "Python 3",
   "language": "python",
   "name": "python3"
  },
  "language_info": {
   "codemirror_mode": {
    "name": "ipython",
    "version": 3
   },
   "file_extension": ".py",
   "mimetype": "text/x-python",
   "name": "python",
   "nbconvert_exporter": "python",
   "pygments_lexer": "ipython3",
   "version": "3.6.0"
  }
 },
 "nbformat": 4,
 "nbformat_minor": 2
}
